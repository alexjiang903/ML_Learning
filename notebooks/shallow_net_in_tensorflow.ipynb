{
 "cells": [
  {
   "cell_type": "markdown",
   "metadata": {
    "id": "yXe7qqFO6_a0"
   },
   "source": [
    "# Shallow Neural Network in TensorFlow"
   ]
  },
  {
   "cell_type": "markdown",
   "metadata": {
    "id": "jmuNn2tq6_a3"
   },
   "source": [
    "Build a shallow neural network to classify handwritten digits"
   ]
  },
  {
   "cell_type": "markdown",
   "metadata": {
    "id": "j3kXOHzK6_a3"
   },
   "source": [
    "[![Open In Colab](https://colab.research.google.com/assets/colab-badge.svg)](https://colab.research.google.com/github/jonkrohn/DLTFpT/blob/master/notebooks/shallow_net_in_tensorflow.ipynb)"
   ]
  },
  {
   "cell_type": "markdown",
   "metadata": {
    "id": "N3UVHR0h6_a3"
   },
   "source": [
    "#### Load dependencies here"
   ]
  },
  {
   "cell_type": "code",
   "execution_count": 1,
   "metadata": {
    "id": "q3D0fOWA6_a3",
    "scrolled": true
   },
   "outputs": [],
   "source": [
    "import tensorflow\n",
    "from tensorflow.keras.datasets import mnist\n",
    "from tensorflow.keras.utils import to_categorical\n",
    "from tensorflow.keras.models import Sequential\n",
    "from tensorflow.keras.layers import Dense\n",
    "from tensorflow.keras.optimizers import SGD\n",
    "from matplotlib import pyplot as plt"
   ]
  },
  {
   "cell_type": "markdown",
   "metadata": {
    "id": "ylXl_LZW6_a4"
   },
   "source": [
    "#### Load data"
   ]
  },
  {
   "cell_type": "code",
   "execution_count": 7,
   "metadata": {
    "colab": {
     "base_uri": "https://localhost:8080/"
    },
    "id": "_ul223LE6_a5",
    "outputId": "03320d07-8a15-4292-a225-a37093872858",
    "scrolled": true
   },
   "outputs": [
    {
     "name": "stdout",
     "output_type": "stream",
     "text": [
      "success\n"
     ]
    }
   ],
   "source": [
    "(X_train, y_train), (X_valid, y_valid) = mnist.load_data()\n",
    "print(\"success\")"
   ]
  },
  {
   "cell_type": "code",
   "execution_count": 8,
   "metadata": {
    "colab": {
     "base_uri": "https://localhost:8080/"
    },
    "id": "emvpQ-bf6_a5",
    "outputId": "fc2cee68-938a-4369-dd52-ca96fd6fdc56"
   },
   "outputs": [
    {
     "data": {
      "text/plain": [
       "(60000, 28, 28)"
      ]
     },
     "execution_count": 8,
     "metadata": {},
     "output_type": "execute_result"
    }
   ],
   "source": [
    "X_train.shape"
   ]
  },
  {
   "cell_type": "code",
   "execution_count": 9,
   "metadata": {
    "colab": {
     "base_uri": "https://localhost:8080/"
    },
    "id": "7OxM-LzU6_a6",
    "outputId": "8230831f-83d2-4d95-ae4d-7aee4890f3df"
   },
   "outputs": [
    {
     "data": {
      "text/plain": [
       "(60000,)"
      ]
     },
     "execution_count": 9,
     "metadata": {},
     "output_type": "execute_result"
    }
   ],
   "source": [
    "y_train.shape"
   ]
  },
  {
   "cell_type": "code",
   "execution_count": 5,
   "metadata": {
    "colab": {
     "base_uri": "https://localhost:8080/"
    },
    "id": "AjloksfO6_a6",
    "outputId": "9d4560cd-a72b-471d-981c-d36299799961"
   },
   "outputs": [
    {
     "data": {
      "text/plain": [
       "array([5, 0, 4, 1, 9, 2, 1, 3, 1, 4, 3, 5], dtype=uint8)"
      ]
     },
     "execution_count": 5,
     "metadata": {},
     "output_type": "execute_result"
    }
   ],
   "source": [
    "y_train[0:12]"
   ]
  },
  {
   "cell_type": "code",
   "execution_count": 5,
   "metadata": {
    "colab": {
     "base_uri": "https://localhost:8080/",
     "height": 447
    },
    "id": "6ogokP4I6_a6",
    "outputId": "50951a83-cd36-4197-fadb-8fe3a6ab26f1"
   },
   "outputs": [
    {
     "data": {
      "image/png": "[encoded data removed]",
      "text/plain": [
       "<Figure size 500x500 with 12 Axes>"
      ]
     },
     "metadata": {},
     "output_type": "display_data"
    }
   ],
   "source": [
    "plt.figure(figsize=(5,5))\n",
    "for k in range(12):\n",
    "    plt.subplot(3, 4, k+1)\n",
    "    plt.imshow(X_train[k], cmap='Greys')\n",
    "    plt.axis('off')\n",
    "plt.tight_layout()\n",
    "plt.show()"
   ]
  },
  {
   "cell_type": "code",
   "execution_count": 7,
   "metadata": {
    "colab": {
     "base_uri": "https://localhost:8080/"
    },
    "id": "OAoj2yr46_a7",
    "outputId": "425e6252-d8dd-4bb8-ef28-bc4ef08a915a"
   },
   "outputs": [
    {
     "data": {
      "text/plain": [
       "(10000, 28, 28)"
      ]
     },
     "execution_count": 7,
     "metadata": {},
     "output_type": "execute_result"
    }
   ],
   "source": [
    "X_valid.shape"
   ]
  },
  {
   "cell_type": "code",
   "execution_count": 8,
   "metadata": {
    "colab": {
     "base_uri": "https://localhost:8080/"
    },
    "id": "XQ0WH4-t6_a7",
    "outputId": "85c4d5cf-199c-4c48-9548-dcc629dd5ea9"
   },
   "outputs": [
    {
     "data": {
      "text/plain": [
       "(10000,)"
      ]
     },
     "execution_count": 8,
     "metadata": {},
     "output_type": "execute_result"
    }
   ],
   "source": [
    "y_valid.shape"
   ]
  },
  {
   "cell_type": "code",
   "execution_count": 9,
   "metadata": {
    "colab": {
     "base_uri": "https://localhost:8080/",
     "height": 430
    },
    "id": "yIgMMMu-6_a7",
    "outputId": "5086be9b-d6da-47ab-d2a0-c11f75950856"
   },
   "outputs": [
    {
     "data": {
      "image/png": "[encoded data removed]",
      "text/plain": [
       "<Figure size 640x480 with 1 Axes>"
      ]
     },
     "metadata": {},
     "output_type": "display_data"
    }
   ],
   "source": [
    "_ = plt.imshow(X_valid[0], cmap='Greys')"
   ]
  },
  {
   "cell_type": "code",
   "execution_count": 10,
   "metadata": {
    "colab": {
     "base_uri": "https://localhost:8080/"
    },
    "id": "dG7hy3fG6_a8",
    "outputId": "a7a395b9-8ec6-4fbb-91a6-54e20ad56f8e"
   },
   "outputs": [
    {
     "data": {
      "text/plain": [
       "array([[  0,   0,   0,   0,   0,   0,   0,   0,   0,   0,   0,   0,   0,\n",
       "          0,   0,   0,   0,   0,   0,   0,   0,   0,   0,   0,   0,   0,\n",
       "          0,   0],\n",
       "       [  0,   0,   0,   0,   0,   0,   0,   0,   0,   0,   0,   0,   0,\n",
       "          0,   0,   0,   0,   0,   0,   0,   0,   0,   0,   0,   0,   0,\n",
       "          0,   0],\n",
       "       [  0,   0,   0,   0,   0,   0,   0,   0,   0,   0,   0,   0,   0,\n",
       "          0,   0,   0,   0,   0,   0,   0,   0,   0,   0,   0,   0,   0,\n",
       "          0,   0],\n",
       "       [  0,   0,   0,   0,   0,   0,   0,   0,   0,   0,   0,   0,   0,\n",
       "          0,   0,   0,   0,   0,   0,   0,   0,   0,   0,   0,   0,   0,\n",
       "          0,   0],\n",
       "       [  0,   0,   0,   0,   0,   0,   0,   0,   0,   0,   0,   0,   0,\n",
       "          0,   0,   0,   0,   0,   0,   0,   0,   0,   0,   0,   0,   0,\n",
       "          0,   0],\n",
       "       [  0,   0,   0,   0,   0,   0,   0,   0,   0,   0,   0,   0,   0,\n",
       "          0,   0,   0,   0,   0,   0,   0,   0,   0,   0,   0,   0,   0,\n",
       "          0,   0],\n",
       "       [  0,   0,   0,   0,   0,   0,   0,   0,   0,   0,   0,   0,   0,\n",
       "          0,   0,   0,   0,   0,   0,   0,   0,   0,   0,   0,   0,   0,\n",
       "          0,   0],\n",
       "       [  0,   0,   0,   0,   0,   0,  84, 185, 159, 151,  60,  36,   0,\n",
       "          0,   0,   0,   0,   0,   0,   0,   0,   0,   0,   0,   0,   0,\n",
       "          0,   0],\n",
       "       [  0,   0,   0,   0,   0,   0, 222, 254, 254, 254, 254, 241, 198,\n",
       "        198, 198, 198, 198, 198, 198, 198, 170,  52,   0,   0,   0,   0,\n",
       "          0,   0],\n",
       "       [  0,   0,   0,   0,   0,   0,  67, 114,  72, 114, 163, 227, 254,\n",
       "        225, 254, 254, 254, 250, 229, 254, 254, 140,   0,   0,   0,   0,\n",
       "          0,   0],\n",
       "       [  0,   0,   0,   0,   0,   0,   0,   0,   0,   0,   0,  17,  66,\n",
       "         14,  67,  67,  67,  59,  21, 236, 254, 106,   0,   0,   0,   0,\n",
       "          0,   0],\n",
       "       [  0,   0,   0,   0,   0,   0,   0,   0,   0,   0,   0,   0,   0,\n",
       "          0,   0,   0,   0,   0,  83, 253, 209,  18,   0,   0,   0,   0,\n",
       "          0,   0],\n",
       "       [  0,   0,   0,   0,   0,   0,   0,   0,   0,   0,   0,   0,   0,\n",
       "          0,   0,   0,   0,  22, 233, 255,  83,   0,   0,   0,   0,   0,\n",
       "          0,   0],\n",
       "       [  0,   0,   0,   0,   0,   0,   0,   0,   0,   0,   0,   0,   0,\n",
       "          0,   0,   0,   0, 129, 254, 238,  44,   0,   0,   0,   0,   0,\n",
       "          0,   0],\n",
       "       [  0,   0,   0,   0,   0,   0,   0,   0,   0,   0,   0,   0,   0,\n",
       "          0,   0,   0,  59, 249, 254,  62,   0,   0,   0,   0,   0,   0,\n",
       "          0,   0],\n",
       "       [  0,   0,   0,   0,   0,   0,   0,   0,   0,   0,   0,   0,   0,\n",
       "          0,   0,   0, 133, 254, 187,   5,   0,   0,   0,   0,   0,   0,\n",
       "          0,   0],\n",
       "       [  0,   0,   0,   0,   0,   0,   0,   0,   0,   0,   0,   0,   0,\n",
       "          0,   0,   9, 205, 248,  58,   0,   0,   0,   0,   0,   0,   0,\n",
       "          0,   0],\n",
       "       [  0,   0,   0,   0,   0,   0,   0,   0,   0,   0,   0,   0,   0,\n",
       "          0,   0, 126, 254, 182,   0,   0,   0,   0,   0,   0,   0,   0,\n",
       "          0,   0],\n",
       "       [  0,   0,   0,   0,   0,   0,   0,   0,   0,   0,   0,   0,   0,\n",
       "          0,  75, 251, 240,  57,   0,   0,   0,   0,   0,   0,   0,   0,\n",
       "          0,   0],\n",
       "       [  0,   0,   0,   0,   0,   0,   0,   0,   0,   0,   0,   0,   0,\n",
       "         19, 221, 254, 166,   0,   0,   0,   0,   0,   0,   0,   0,   0,\n",
       "          0,   0],\n",
       "       [  0,   0,   0,   0,   0,   0,   0,   0,   0,   0,   0,   0,   3,\n",
       "        203, 254, 219,  35,   0,   0,   0,   0,   0,   0,   0,   0,   0,\n",
       "          0,   0],\n",
       "       [  0,   0,   0,   0,   0,   0,   0,   0,   0,   0,   0,   0,  38,\n",
       "        254, 254,  77,   0,   0,   0,   0,   0,   0,   0,   0,   0,   0,\n",
       "          0,   0],\n",
       "       [  0,   0,   0,   0,   0,   0,   0,   0,   0,   0,   0,  31, 224,\n",
       "        254, 115,   1,   0,   0,   0,   0,   0,   0,   0,   0,   0,   0,\n",
       "          0,   0],\n",
       "       [  0,   0,   0,   0,   0,   0,   0,   0,   0,   0,   0, 133, 254,\n",
       "        254,  52,   0,   0,   0,   0,   0,   0,   0,   0,   0,   0,   0,\n",
       "          0,   0],\n",
       "       [  0,   0,   0,   0,   0,   0,   0,   0,   0,   0,  61, 242, 254,\n",
       "        254,  52,   0,   0,   0,   0,   0,   0,   0,   0,   0,   0,   0,\n",
       "          0,   0],\n",
       "       [  0,   0,   0,   0,   0,   0,   0,   0,   0,   0, 121, 254, 254,\n",
       "        219,  40,   0,   0,   0,   0,   0,   0,   0,   0,   0,   0,   0,\n",
       "          0,   0],\n",
       "       [  0,   0,   0,   0,   0,   0,   0,   0,   0,   0, 121, 254, 207,\n",
       "         18,   0,   0,   0,   0,   0,   0,   0,   0,   0,   0,   0,   0,\n",
       "          0,   0],\n",
       "       [  0,   0,   0,   0,   0,   0,   0,   0,   0,   0,   0,   0,   0,\n",
       "          0,   0,   0,   0,   0,   0,   0,   0,   0,   0,   0,   0,   0,\n",
       "          0,   0]], dtype=uint8)"
      ]
     },
     "execution_count": 10,
     "metadata": {},
     "output_type": "execute_result"
    }
   ],
   "source": [
    "X_valid[0]"
   ]
  },
  {
   "cell_type": "code",
   "execution_count": 11,
   "metadata": {
    "colab": {
     "base_uri": "https://localhost:8080/"
    },
    "id": "fAR385d56_a8",
    "outputId": "58cd7ddc-6cbc-4f8e-d4b9-49d653936bae"
   },
   "outputs": [
    {
     "data": {
      "text/plain": [
       "7"
      ]
     },
     "execution_count": 11,
     "metadata": {},
     "output_type": "execute_result"
    }
   ],
   "source": [
    "y_valid[0]"
   ]
  },
  {
   "cell_type": "markdown",
   "metadata": {
    "id": "QCYuT40d6_a8"
   },
   "source": [
    "#### Preprocess data"
   ]
  },
  {
   "cell_type": "code",
   "execution_count": 12,
   "metadata": {
    "id": "6Odu_77x6_a8"
   },
   "outputs": [],
   "source": [
    "X_train = X_train.reshape(60000, 784).astype('float32')\n",
    "X_valid = X_valid.reshape(10000, 784).astype('float32')"
   ]
  },
  {
   "cell_type": "code",
   "execution_count": 13,
   "metadata": {
    "id": "TPz3rucK6_a9"
   },
   "outputs": [],
   "source": [
    "X_train /= 255\n",
    "X_valid /= 255"
   ]
  },
  {
   "cell_type": "code",
   "execution_count": 14,
   "metadata": {
    "colab": {
     "base_uri": "https://localhost:8080/"
    },
    "id": "dxLl0pCg6_a9",
    "outputId": "fd7321ad-5492-4566-e4de-52420ebb9d99"
   },
   "outputs": [
    {
     "data": {
      "text/plain": [
       "array([0.        , 0.        , 0.        , 0.        , 0.        ,\n",
       "       0.        , 0.        , 0.        , 0.        , 0.        ,\n",
       "       0.        , 0.        , 0.        , 0.        , 0.        ,\n",
       "       0.        , 0.        , 0.        , 0.        , 0.        ,\n",
       "       0.        , 0.        , 0.        , 0.        , 0.        ,\n",
       "       0.        , 0.        , 0.        , 0.        , 0.        ,\n",
       "       0.        , 0.        , 0.        , 0.        , 0.        ,\n",
       "       0.        , 0.        , 0.        , 0.        , 0.        ,\n",
       "       0.        , 0.        , 0.        , 0.        , 0.        ,\n",
       "       0.        , 0.        , 0.        , 0.        , 0.        ,\n",
       "       0.        , 0.        , 0.        , 0.        , 0.        ,\n",
       "       0.        , 0.        , 0.        , 0.        , 0.        ,\n",
       "       0.        , 0.        , 0.        , 0.        , 0.        ,\n",
       "       0.        , 0.        , 0.        , 0.        , 0.        ,\n",
       "       0.        , 0.        , 0.        , 0.        , 0.        ,\n",
       "       0.        , 0.        , 0.        , 0.        , 0.        ,\n",
       "       0.        , 0.        , 0.        , 0.        , 0.        ,\n",
       "       0.        , 0.        , 0.        , 0.        , 0.        ,\n",
       "       0.        , 0.        , 0.        , 0.        , 0.        ,\n",
       "       0.        , 0.        , 0.        , 0.        , 0.        ,\n",
       "       0.        , 0.        , 0.        , 0.        , 0.        ,\n",
       "       0.        , 0.        , 0.        , 0.        , 0.        ,\n",
       "       0.        , 0.        , 0.        , 0.        , 0.        ,\n",
       "       0.        , 0.        , 0.        , 0.        , 0.        ,\n",
       "       0.        , 0.        , 0.        , 0.        , 0.        ,\n",
       "       0.        , 0.        , 0.        , 0.        , 0.        ,\n",
       "       0.        , 0.        , 0.        , 0.        , 0.        ,\n",
       "       0.        , 0.        , 0.        , 0.        , 0.        ,\n",
       "       0.        , 0.        , 0.        , 0.        , 0.        ,\n",
       "       0.        , 0.        , 0.        , 0.        , 0.        ,\n",
       "       0.        , 0.        , 0.        , 0.        , 0.        ,\n",
       "       0.        , 0.        , 0.        , 0.        , 0.        ,\n",
       "       0.        , 0.        , 0.        , 0.        , 0.        ,\n",
       "       0.        , 0.        , 0.        , 0.        , 0.        ,\n",
       "       0.        , 0.        , 0.        , 0.        , 0.        ,\n",
       "       0.        , 0.        , 0.        , 0.        , 0.        ,\n",
       "       0.        , 0.        , 0.        , 0.        , 0.        ,\n",
       "       0.        , 0.        , 0.        , 0.        , 0.        ,\n",
       "       0.        , 0.        , 0.        , 0.        , 0.        ,\n",
       "       0.        , 0.        , 0.        , 0.        , 0.        ,\n",
       "       0.        , 0.        , 0.32941177, 0.7254902 , 0.62352943,\n",
       "       0.5921569 , 0.23529412, 0.14117648, 0.        , 0.        ,\n",
       "       0.        , 0.        , 0.        , 0.        , 0.        ,\n",
       "       0.        , 0.        , 0.        , 0.        , 0.        ,\n",
       "       0.        , 0.        , 0.        , 0.        , 0.        ,\n",
       "       0.        , 0.        , 0.        , 0.        , 0.        ,\n",
       "       0.87058824, 0.99607843, 0.99607843, 0.99607843, 0.99607843,\n",
       "       0.94509804, 0.7764706 , 0.7764706 , 0.7764706 , 0.7764706 ,\n",
       "       0.7764706 , 0.7764706 , 0.7764706 , 0.7764706 , 0.6666667 ,\n",
       "       0.20392157, 0.        , 0.        , 0.        , 0.        ,\n",
       "       0.        , 0.        , 0.        , 0.        , 0.        ,\n",
       "       0.        , 0.        , 0.        , 0.2627451 , 0.44705883,\n",
       "       0.28235295, 0.44705883, 0.6392157 , 0.8901961 , 0.99607843,\n",
       "       0.88235295, 0.99607843, 0.99607843, 0.99607843, 0.98039216,\n",
       "       0.8980392 , 0.99607843, 0.99607843, 0.54901963, 0.        ,\n",
       "       0.        , 0.        , 0.        , 0.        , 0.        ,\n",
       "       0.        , 0.        , 0.        , 0.        , 0.        ,\n",
       "       0.        , 0.        , 0.        , 0.        , 0.        ,\n",
       "       0.        , 0.06666667, 0.25882354, 0.05490196, 0.2627451 ,\n",
       "       0.2627451 , 0.2627451 , 0.23137255, 0.08235294, 0.9254902 ,\n",
       "       0.99607843, 0.41568628, 0.        , 0.        , 0.        ,\n",
       "       0.        , 0.        , 0.        , 0.        , 0.        ,\n",
       "       0.        , 0.        , 0.        , 0.        , 0.        ,\n",
       "       0.        , 0.        , 0.        , 0.        , 0.        ,\n",
       "       0.        , 0.        , 0.        , 0.        , 0.        ,\n",
       "       0.        , 0.3254902 , 0.99215686, 0.81960785, 0.07058824,\n",
       "       0.        , 0.        , 0.        , 0.        , 0.        ,\n",
       "       0.        , 0.        , 0.        , 0.        , 0.        ,\n",
       "       0.        , 0.        , 0.        , 0.        , 0.        ,\n",
       "       0.        , 0.        , 0.        , 0.        , 0.        ,\n",
       "       0.        , 0.        , 0.        , 0.08627451, 0.9137255 ,\n",
       "       1.        , 0.3254902 , 0.        , 0.        , 0.        ,\n",
       "       0.        , 0.        , 0.        , 0.        , 0.        ,\n",
       "       0.        , 0.        , 0.        , 0.        , 0.        ,\n",
       "       0.        , 0.        , 0.        , 0.        , 0.        ,\n",
       "       0.        , 0.        , 0.        , 0.        , 0.        ,\n",
       "       0.        , 0.5058824 , 0.99607843, 0.93333334, 0.17254902,\n",
       "       0.        , 0.        , 0.        , 0.        , 0.        ,\n",
       "       0.        , 0.        , 0.        , 0.        , 0.        ,\n",
       "       0.        , 0.        , 0.        , 0.        , 0.        ,\n",
       "       0.        , 0.        , 0.        , 0.        , 0.        ,\n",
       "       0.        , 0.        , 0.        , 0.23137255, 0.9764706 ,\n",
       "       0.99607843, 0.24313726, 0.        , 0.        , 0.        ,\n",
       "       0.        , 0.        , 0.        , 0.        , 0.        ,\n",
       "       0.        , 0.        , 0.        , 0.        , 0.        ,\n",
       "       0.        , 0.        , 0.        , 0.        , 0.        ,\n",
       "       0.        , 0.        , 0.        , 0.        , 0.        ,\n",
       "       0.        , 0.52156866, 0.99607843, 0.73333335, 0.01960784,\n",
       "       0.        , 0.        , 0.        , 0.        , 0.        ,\n",
       "       0.        , 0.        , 0.        , 0.        , 0.        ,\n",
       "       0.        , 0.        , 0.        , 0.        , 0.        ,\n",
       "       0.        , 0.        , 0.        , 0.        , 0.        ,\n",
       "       0.        , 0.        , 0.        , 0.03529412, 0.8039216 ,\n",
       "       0.972549  , 0.22745098, 0.        , 0.        , 0.        ,\n",
       "       0.        , 0.        , 0.        , 0.        , 0.        ,\n",
       "       0.        , 0.        , 0.        , 0.        , 0.        ,\n",
       "       0.        , 0.        , 0.        , 0.        , 0.        ,\n",
       "       0.        , 0.        , 0.        , 0.        , 0.        ,\n",
       "       0.        , 0.49411765, 0.99607843, 0.7137255 , 0.        ,\n",
       "       0.        , 0.        , 0.        , 0.        , 0.        ,\n",
       "       0.        , 0.        , 0.        , 0.        , 0.        ,\n",
       "       0.        , 0.        , 0.        , 0.        , 0.        ,\n",
       "       0.        , 0.        , 0.        , 0.        , 0.        ,\n",
       "       0.        , 0.        , 0.        , 0.29411766, 0.9843137 ,\n",
       "       0.9411765 , 0.22352941, 0.        , 0.        , 0.        ,\n",
       "       0.        , 0.        , 0.        , 0.        , 0.        ,\n",
       "       0.        , 0.        , 0.        , 0.        , 0.        ,\n",
       "       0.        , 0.        , 0.        , 0.        , 0.        ,\n",
       "       0.        , 0.        , 0.        , 0.        , 0.        ,\n",
       "       0.07450981, 0.8666667 , 0.99607843, 0.6509804 , 0.        ,\n",
       "       0.        , 0.        , 0.        , 0.        , 0.        ,\n",
       "       0.        , 0.        , 0.        , 0.        , 0.        ,\n",
       "       0.        , 0.        , 0.        , 0.        , 0.        ,\n",
       "       0.        , 0.        , 0.        , 0.        , 0.        ,\n",
       "       0.        , 0.        , 0.01176471, 0.79607844, 0.99607843,\n",
       "       0.85882354, 0.13725491, 0.        , 0.        , 0.        ,\n",
       "       0.        , 0.        , 0.        , 0.        , 0.        ,\n",
       "       0.        , 0.        , 0.        , 0.        , 0.        ,\n",
       "       0.        , 0.        , 0.        , 0.        , 0.        ,\n",
       "       0.        , 0.        , 0.        , 0.        , 0.        ,\n",
       "       0.14901961, 0.99607843, 0.99607843, 0.3019608 , 0.        ,\n",
       "       0.        , 0.        , 0.        , 0.        , 0.        ,\n",
       "       0.        , 0.        , 0.        , 0.        , 0.        ,\n",
       "       0.        , 0.        , 0.        , 0.        , 0.        ,\n",
       "       0.        , 0.        , 0.        , 0.        , 0.        ,\n",
       "       0.        , 0.        , 0.12156863, 0.8784314 , 0.99607843,\n",
       "       0.4509804 , 0.00392157, 0.        , 0.        , 0.        ,\n",
       "       0.        , 0.        , 0.        , 0.        , 0.        ,\n",
       "       0.        , 0.        , 0.        , 0.        , 0.        ,\n",
       "       0.        , 0.        , 0.        , 0.        , 0.        ,\n",
       "       0.        , 0.        , 0.        , 0.        , 0.        ,\n",
       "       0.52156866, 0.99607843, 0.99607843, 0.20392157, 0.        ,\n",
       "       0.        , 0.        , 0.        , 0.        , 0.        ,\n",
       "       0.        , 0.        , 0.        , 0.        , 0.        ,\n",
       "       0.        , 0.        , 0.        , 0.        , 0.        ,\n",
       "       0.        , 0.        , 0.        , 0.        , 0.        ,\n",
       "       0.        , 0.        , 0.23921569, 0.9490196 , 0.99607843,\n",
       "       0.99607843, 0.20392157, 0.        , 0.        , 0.        ,\n",
       "       0.        , 0.        , 0.        , 0.        , 0.        ,\n",
       "       0.        , 0.        , 0.        , 0.        , 0.        ,\n",
       "       0.        , 0.        , 0.        , 0.        , 0.        ,\n",
       "       0.        , 0.        , 0.        , 0.        , 0.        ,\n",
       "       0.4745098 , 0.99607843, 0.99607843, 0.85882354, 0.15686275,\n",
       "       0.        , 0.        , 0.        , 0.        , 0.        ,\n",
       "       0.        , 0.        , 0.        , 0.        , 0.        ,\n",
       "       0.        , 0.        , 0.        , 0.        , 0.        ,\n",
       "       0.        , 0.        , 0.        , 0.        , 0.        ,\n",
       "       0.        , 0.        , 0.        , 0.4745098 , 0.99607843,\n",
       "       0.8117647 , 0.07058824, 0.        , 0.        , 0.        ,\n",
       "       0.        , 0.        , 0.        , 0.        , 0.        ,\n",
       "       0.        , 0.        , 0.        , 0.        , 0.        ,\n",
       "       0.        , 0.        , 0.        , 0.        , 0.        ,\n",
       "       0.        , 0.        , 0.        , 0.        , 0.        ,\n",
       "       0.        , 0.        , 0.        , 0.        , 0.        ,\n",
       "       0.        , 0.        , 0.        , 0.        , 0.        ,\n",
       "       0.        , 0.        , 0.        , 0.        , 0.        ,\n",
       "       0.        , 0.        , 0.        , 0.        ], dtype=float32)"
      ]
     },
     "execution_count": 14,
     "metadata": {},
     "output_type": "execute_result"
    }
   ],
   "source": [
    "X_valid[0]"
   ]
  },
  {
   "cell_type": "code",
   "execution_count": 15,
   "metadata": {
    "id": "tv3n3itV6_a9"
   },
   "outputs": [],
   "source": [
    "n_classes = 10\n",
    "y_train = to_categorical(y_train, n_classes)\n",
    "y_valid = to_categorical(y_valid, n_classes)"
   ]
  },
  {
   "cell_type": "code",
   "execution_count": 16,
   "metadata": {
    "colab": {
     "base_uri": "https://localhost:8080/"
    },
    "id": "NYkE_jXi6_a9",
    "outputId": "1b2be686-04ed-4aa1-bbb0-c89231c8b6d1"
   },
   "outputs": [
    {
     "data": {
      "text/plain": [
       "array([0., 0., 0., 0., 0., 0., 0., 1., 0., 0.], dtype=float32)"
      ]
     },
     "execution_count": 16,
     "metadata": {},
     "output_type": "execute_result"
    }
   ],
   "source": [
    "y_valid[0]"
   ]
  },
  {
   "cell_type": "markdown",
   "metadata": {
    "id": "IKupjM0z6_a9"
   },
   "source": [
    "#### Design neural network architecture"
   ]
  },
  {
   "cell_type": "code",
   "execution_count": 17,
   "metadata": {
    "id": "1KkhUt-m6_a-"
   },
   "outputs": [],
   "source": [
    "model = Sequential()\n",
    "model.add(Dense(64, activation='sigmoid', input_shape=(784,)))\n",
    "model.add(Dense(10, activation='softmax'))"
   ]
  },
  {
   "cell_type": "code",
   "execution_count": 18,
   "metadata": {
    "colab": {
     "base_uri": "https://localhost:8080/"
    },
    "id": "d1__QwQt6_a-",
    "outputId": "583effe3-3e68-4cd2-c108-7b2b4872864c"
   },
   "outputs": [
    {
     "name": "stdout",
     "output_type": "stream",
     "text": [
      "Model: \"sequential\"\n",
      "_________________________________________________________________\n",
      " Layer (type)                Output Shape              Param #   \n",
      "=================================================================\n",
      " dense (Dense)               (None, 64)                50240     \n",
      "                                                                 \n",
      " dense_1 (Dense)             (None, 10)                650       \n",
      "                                                                 \n",
      "=================================================================\n",
      "Total params: 50,890\n",
      "Trainable params: 50,890\n",
      "Non-trainable params: 0\n",
      "_________________________________________________________________\n"
     ]
    }
   ],
   "source": [
    "model.summary()"
   ]
  },
  {
   "cell_type": "code",
   "execution_count": 19,
   "metadata": {
    "colab": {
     "base_uri": "https://localhost:8080/"
    },
    "id": "HjaiTp-o6_a-",
    "outputId": "6248d403-06ee-4988-8815-4c84d77cd496"
   },
   "outputs": [
    {
     "data": {
      "text/plain": [
       "50176"
      ]
     },
     "execution_count": 19,
     "metadata": {},
     "output_type": "execute_result"
    }
   ],
   "source": [
    "(64*784)"
   ]
  },
  {
   "cell_type": "code",
   "execution_count": 20,
   "metadata": {
    "colab": {
     "base_uri": "https://localhost:8080/"
    },
    "id": "QTkzxbRA6_a-",
    "outputId": "78558e7c-b5d4-40b6-8c50-93e5c8f95d2b"
   },
   "outputs": [
    {
     "data": {
      "text/plain": [
       "50240"
      ]
     },
     "execution_count": 20,
     "metadata": {},
     "output_type": "execute_result"
    }
   ],
   "source": [
    "(64*784)+64"
   ]
  },
  {
   "cell_type": "code",
   "execution_count": 21,
   "metadata": {
    "colab": {
     "base_uri": "https://localhost:8080/"
    },
    "id": "jii4lIqT6_a-",
    "outputId": "d9f21530-fb53-4d40-c539-0c71cc6a8f19"
   },
   "outputs": [
    {
     "data": {
      "text/plain": [
       "650"
      ]
     },
     "execution_count": 21,
     "metadata": {},
     "output_type": "execute_result"
    }
   ],
   "source": [
    "(10*64)+10"
   ]
  },
  {
   "cell_type": "markdown",
   "metadata": {
    "id": "2TSjHfhi6_a-"
   },
   "source": [
    "#### Configure model"
   ]
  },
  {
   "cell_type": "code",
   "execution_count": 23,
   "metadata": {
    "id": "aT02wHcd6_a-"
   },
   "outputs": [],
   "source": [
    "model.compile(loss='mean_squared_error', optimizer=SGD(learning_rate=0.01), metrics=['accuracy'])"
   ]
  },
  {
   "cell_type": "markdown",
   "metadata": {
    "id": "hF4I2Zou6_a-"
   },
   "source": [
    "#### Train!"
   ]
  },
  {
   "cell_type": "code",
   "execution_count": 24,
   "metadata": {
    "colab": {
     "base_uri": "https://localhost:8080/"
    },
    "id": "DRWqGssx6_a_",
    "outputId": "163ec0a0-bbc4-4853-8f0b-d174827944e9"
   },
   "outputs": [
    {
     "name": "stdout",
     "output_type": "stream",
     "text": [
      "Epoch 1/200\n",
      "469/469 [==============================] - 3s 5ms/step - loss: 0.0927 - accuracy: 0.1082 - val_loss: 0.0921 - val_accuracy: 0.1125\n",
      "Epoch 2/200\n",
      "469/469 [==============================] - 2s 4ms/step - loss: 0.0917 - accuracy: 0.1141 - val_loss: 0.0914 - val_accuracy: 0.1145\n",
      "Epoch 3/200\n",
      "469/469 [==============================] - 2s 4ms/step - loss: 0.0911 - accuracy: 0.1167 - val_loss: 0.0909 - val_accuracy: 0.1212\n",
      "Epoch 4/200\n",
      "469/469 [==============================] - 1s 3ms/step - loss: 0.0907 - accuracy: 0.1248 - val_loss: 0.0905 - val_accuracy: 0.1327\n",
      "Epoch 5/200\n",
      "469/469 [==============================] - 1s 3ms/step - loss: 0.0903 - accuracy: 0.1428 - val_loss: 0.0901 - val_accuracy: 0.1518\n",
      "Epoch 6/200\n",
      "469/469 [==============================] - 2s 3ms/step - loss: 0.0899 - accuracy: 0.1691 - val_loss: 0.0898 - val_accuracy: 0.1811\n",
      "Epoch 7/200\n",
      "469/469 [==============================] - 2s 3ms/step - loss: 0.0896 - accuracy: 0.2013 - val_loss: 0.0894 - val_accuracy: 0.2177\n",
      "Epoch 8/200\n",
      "469/469 [==============================] - 2s 3ms/step - loss: 0.0893 - accuracy: 0.2331 - val_loss: 0.0891 - val_accuracy: 0.2478\n",
      "Epoch 9/200\n",
      "469/469 [==============================] - 2s 4ms/step - loss: 0.0890 - accuracy: 0.2651 - val_loss: 0.0888 - val_accuracy: 0.2807\n",
      "Epoch 10/200\n",
      "469/469 [==============================] - 2s 4ms/step - loss: 0.0887 - accuracy: 0.2981 - val_loss: 0.0885 - val_accuracy: 0.3105\n",
      "Epoch 11/200\n",
      "469/469 [==============================] - 1s 3ms/step - loss: 0.0884 - accuracy: 0.3254 - val_loss: 0.0882 - val_accuracy: 0.3364\n",
      "Epoch 12/200\n",
      "469/469 [==============================] - 2s 4ms/step - loss: 0.0881 - accuracy: 0.3506 - val_loss: 0.0879 - val_accuracy: 0.3548\n",
      "Epoch 13/200\n",
      "469/469 [==============================] - 1s 3ms/step - loss: 0.0877 - accuracy: 0.3643 - val_loss: 0.0876 - val_accuracy: 0.3670\n",
      "Epoch 14/200\n",
      "469/469 [==============================] - 1s 3ms/step - loss: 0.0874 - accuracy: 0.3737 - val_loss: 0.0872 - val_accuracy: 0.3745\n",
      "Epoch 15/200\n",
      "469/469 [==============================] - 2s 3ms/step - loss: 0.0871 - accuracy: 0.3793 - val_loss: 0.0869 - val_accuracy: 0.3806\n",
      "Epoch 16/200\n",
      "469/469 [==============================] - 1s 3ms/step - loss: 0.0868 - accuracy: 0.3855 - val_loss: 0.0866 - val_accuracy: 0.3843\n",
      "Epoch 17/200\n",
      "469/469 [==============================] - 2s 5ms/step - loss: 0.0865 - accuracy: 0.3880 - val_loss: 0.0863 - val_accuracy: 0.3878\n",
      "Epoch 18/200\n",
      "469/469 [==============================] - 2s 4ms/step - loss: 0.0861 - accuracy: 0.3911 - val_loss: 0.0859 - val_accuracy: 0.3920\n",
      "Epoch 19/200\n",
      "469/469 [==============================] - 2s 3ms/step - loss: 0.0858 - accuracy: 0.3923 - val_loss: 0.0856 - val_accuracy: 0.3920\n",
      "Epoch 20/200\n",
      "469/469 [==============================] - 1s 3ms/step - loss: 0.0855 - accuracy: 0.3936 - val_loss: 0.0853 - val_accuracy: 0.3936\n",
      "Epoch 21/200\n",
      "469/469 [==============================] - 1s 3ms/step - loss: 0.0851 - accuracy: 0.3945 - val_loss: 0.0849 - val_accuracy: 0.3949\n",
      "Epoch 22/200\n",
      "469/469 [==============================] - 2s 3ms/step - loss: 0.0848 - accuracy: 0.3956 - val_loss: 0.0846 - val_accuracy: 0.3973\n",
      "Epoch 23/200\n",
      "469/469 [==============================] - 2s 3ms/step - loss: 0.0844 - accuracy: 0.3971 - val_loss: 0.0842 - val_accuracy: 0.3983\n",
      "Epoch 24/200\n",
      "469/469 [==============================] - 2s 4ms/step - loss: 0.0841 - accuracy: 0.3979 - val_loss: 0.0839 - val_accuracy: 0.3994\n",
      "Epoch 25/200\n",
      "469/469 [==============================] - 2s 5ms/step - loss: 0.0837 - accuracy: 0.4002 - val_loss: 0.0835 - val_accuracy: 0.4009\n",
      "Epoch 26/200\n",
      "469/469 [==============================] - 1s 3ms/step - loss: 0.0834 - accuracy: 0.4003 - val_loss: 0.0831 - val_accuracy: 0.4006\n",
      "Epoch 27/200\n",
      "469/469 [==============================] - 1s 3ms/step - loss: 0.0830 - accuracy: 0.4018 - val_loss: 0.0827 - val_accuracy: 0.4006\n",
      "Epoch 28/200\n",
      "469/469 [==============================] - 1s 3ms/step - loss: 0.0826 - accuracy: 0.4029 - val_loss: 0.0823 - val_accuracy: 0.4026\n",
      "Epoch 29/200\n",
      "469/469 [==============================] - 1s 3ms/step - loss: 0.0822 - accuracy: 0.4042 - val_loss: 0.0820 - val_accuracy: 0.4051\n",
      "Epoch 30/200\n",
      "469/469 [==============================] - 2s 3ms/step - loss: 0.0818 - accuracy: 0.4064 - val_loss: 0.0815 - val_accuracy: 0.4058\n",
      "Epoch 31/200\n",
      "469/469 [==============================] - 2s 4ms/step - loss: 0.0814 - accuracy: 0.4084 - val_loss: 0.0811 - val_accuracy: 0.4077\n",
      "Epoch 32/200\n",
      "469/469 [==============================] - 2s 4ms/step - loss: 0.0810 - accuracy: 0.4114 - val_loss: 0.0807 - val_accuracy: 0.4106\n",
      "Epoch 33/200\n",
      "469/469 [==============================] - 2s 4ms/step - loss: 0.0806 - accuracy: 0.4142 - val_loss: 0.0803 - val_accuracy: 0.4125\n",
      "Epoch 34/200\n",
      "469/469 [==============================] - 2s 3ms/step - loss: 0.0802 - accuracy: 0.4163 - val_loss: 0.0799 - val_accuracy: 0.4163\n",
      "Epoch 35/200\n",
      "469/469 [==============================] - 2s 3ms/step - loss: 0.0798 - accuracy: 0.4198 - val_loss: 0.0795 - val_accuracy: 0.4194\n",
      "Epoch 36/200\n",
      "469/469 [==============================] - 1s 3ms/step - loss: 0.0793 - accuracy: 0.4231 - val_loss: 0.0790 - val_accuracy: 0.4221\n",
      "Epoch 37/200\n",
      "469/469 [==============================] - 2s 3ms/step - loss: 0.0789 - accuracy: 0.4258 - val_loss: 0.0786 - val_accuracy: 0.4256\n",
      "Epoch 38/200\n",
      "469/469 [==============================] - 1s 3ms/step - loss: 0.0784 - accuracy: 0.4301 - val_loss: 0.0781 - val_accuracy: 0.4290\n",
      "Epoch 39/200\n",
      "469/469 [==============================] - 1s 3ms/step - loss: 0.0780 - accuracy: 0.4336 - val_loss: 0.0777 - val_accuracy: 0.4321\n",
      "Epoch 40/200\n",
      "469/469 [==============================] - 2s 5ms/step - loss: 0.0776 - accuracy: 0.4373 - val_loss: 0.0772 - val_accuracy: 0.4362\n",
      "Epoch 41/200\n",
      "469/469 [==============================] - 2s 4ms/step - loss: 0.0771 - accuracy: 0.4407 - val_loss: 0.0767 - val_accuracy: 0.4407\n",
      "Epoch 42/200\n",
      "469/469 [==============================] - 2s 3ms/step - loss: 0.0766 - accuracy: 0.4464 - val_loss: 0.0763 - val_accuracy: 0.4451\n",
      "Epoch 43/200\n",
      "469/469 [==============================] - 2s 4ms/step - loss: 0.0762 - accuracy: 0.4493 - val_loss: 0.0758 - val_accuracy: 0.4488\n",
      "Epoch 44/200\n",
      "469/469 [==============================] - 2s 4ms/step - loss: 0.0757 - accuracy: 0.4540 - val_loss: 0.0753 - val_accuracy: 0.4529\n",
      "Epoch 45/200\n",
      "469/469 [==============================] - 2s 3ms/step - loss: 0.0752 - accuracy: 0.4582 - val_loss: 0.0749 - val_accuracy: 0.4571\n",
      "Epoch 46/200\n",
      "469/469 [==============================] - 1s 3ms/step - loss: 0.0748 - accuracy: 0.4615 - val_loss: 0.0744 - val_accuracy: 0.4615\n",
      "Epoch 47/200\n",
      "469/469 [==============================] - 2s 4ms/step - loss: 0.0743 - accuracy: 0.4658 - val_loss: 0.0739 - val_accuracy: 0.4656\n",
      "Epoch 48/200\n",
      "469/469 [==============================] - 2s 5ms/step - loss: 0.0738 - accuracy: 0.4708 - val_loss: 0.0734 - val_accuracy: 0.4692\n",
      "Epoch 49/200\n",
      "469/469 [==============================] - 1s 3ms/step - loss: 0.0733 - accuracy: 0.4748 - val_loss: 0.0729 - val_accuracy: 0.4741\n",
      "Epoch 50/200\n",
      "469/469 [==============================] - 1s 3ms/step - loss: 0.0729 - accuracy: 0.4791 - val_loss: 0.0724 - val_accuracy: 0.4779\n",
      "Epoch 51/200\n",
      "469/469 [==============================] - 1s 3ms/step - loss: 0.0724 - accuracy: 0.4832 - val_loss: 0.0720 - val_accuracy: 0.4822\n",
      "Epoch 52/200\n",
      "469/469 [==============================] - 1s 3ms/step - loss: 0.0719 - accuracy: 0.4874 - val_loss: 0.0715 - val_accuracy: 0.4879\n",
      "Epoch 53/200\n",
      "469/469 [==============================] - 1s 3ms/step - loss: 0.0714 - accuracy: 0.4918 - val_loss: 0.0710 - val_accuracy: 0.4918\n",
      "Epoch 54/200\n",
      "469/469 [==============================] - 1s 3ms/step - loss: 0.0709 - accuracy: 0.4963 - val_loss: 0.0705 - val_accuracy: 0.4962\n",
      "Epoch 55/200\n",
      "469/469 [==============================] - 2s 4ms/step - loss: 0.0705 - accuracy: 0.5005 - val_loss: 0.0700 - val_accuracy: 0.5003\n",
      "Epoch 56/200\n",
      "469/469 [==============================] - 2s 5ms/step - loss: 0.0700 - accuracy: 0.5049 - val_loss: 0.0695 - val_accuracy: 0.5042\n",
      "Epoch 57/200\n",
      "469/469 [==============================] - 2s 3ms/step - loss: 0.0695 - accuracy: 0.5083 - val_loss: 0.0690 - val_accuracy: 0.5093\n",
      "Epoch 58/200\n",
      "469/469 [==============================] - 2s 3ms/step - loss: 0.0690 - accuracy: 0.5132 - val_loss: 0.0685 - val_accuracy: 0.5138\n",
      "Epoch 59/200\n",
      "469/469 [==============================] - 2s 3ms/step - loss: 0.0685 - accuracy: 0.5174 - val_loss: 0.0681 - val_accuracy: 0.5207\n",
      "Epoch 60/200\n",
      "469/469 [==============================] - 1s 3ms/step - loss: 0.0681 - accuracy: 0.5221 - val_loss: 0.0676 - val_accuracy: 0.5250\n",
      "Epoch 61/200\n",
      "469/469 [==============================] - 2s 3ms/step - loss: 0.0676 - accuracy: 0.5274 - val_loss: 0.0671 - val_accuracy: 0.5316\n",
      "Epoch 62/200\n",
      "469/469 [==============================] - 1s 3ms/step - loss: 0.0671 - accuracy: 0.5325 - val_loss: 0.0666 - val_accuracy: 0.5363\n",
      "Epoch 63/200\n",
      "469/469 [==============================] - 2s 4ms/step - loss: 0.0666 - accuracy: 0.5373 - val_loss: 0.0661 - val_accuracy: 0.5412\n",
      "Epoch 64/200\n",
      "469/469 [==============================] - 2s 5ms/step - loss: 0.0662 - accuracy: 0.5430 - val_loss: 0.0657 - val_accuracy: 0.5475\n",
      "Epoch 65/200\n",
      "469/469 [==============================] - 1s 3ms/step - loss: 0.0657 - accuracy: 0.5479 - val_loss: 0.0652 - val_accuracy: 0.5526\n",
      "Epoch 66/200\n",
      "469/469 [==============================] - 2s 3ms/step - loss: 0.0653 - accuracy: 0.5527 - val_loss: 0.0647 - val_accuracy: 0.5597\n",
      "Epoch 67/200\n",
      "469/469 [==============================] - 1s 3ms/step - loss: 0.0648 - accuracy: 0.5576 - val_loss: 0.0643 - val_accuracy: 0.5660\n",
      "Epoch 68/200\n",
      "469/469 [==============================] - 2s 3ms/step - loss: 0.0643 - accuracy: 0.5627 - val_loss: 0.0638 - val_accuracy: 0.5729\n",
      "Epoch 69/200\n",
      "469/469 [==============================] - 2s 4ms/step - loss: 0.0639 - accuracy: 0.5685 - val_loss: 0.0633 - val_accuracy: 0.5778\n",
      "Epoch 70/200\n",
      "469/469 [==============================] - 2s 3ms/step - loss: 0.0634 - accuracy: 0.5741 - val_loss: 0.0629 - val_accuracy: 0.5832\n",
      "Epoch 71/200\n",
      "469/469 [==============================] - 2s 4ms/step - loss: 0.0630 - accuracy: 0.5794 - val_loss: 0.0624 - val_accuracy: 0.5903\n",
      "Epoch 72/200\n",
      "469/469 [==============================] - 2s 4ms/step - loss: 0.0625 - accuracy: 0.5856 - val_loss: 0.0620 - val_accuracy: 0.5952\n",
      "Epoch 73/200\n",
      "469/469 [==============================] - 1s 3ms/step - loss: 0.0621 - accuracy: 0.5909 - val_loss: 0.0615 - val_accuracy: 0.6007\n",
      "Epoch 74/200\n",
      "469/469 [==============================] - 2s 3ms/step - loss: 0.0616 - accuracy: 0.5969 - val_loss: 0.0611 - val_accuracy: 0.6059\n",
      "Epoch 75/200\n",
      "469/469 [==============================] - 2s 3ms/step - loss: 0.0612 - accuracy: 0.6025 - val_loss: 0.0606 - val_accuracy: 0.6112\n",
      "Epoch 76/200\n",
      "469/469 [==============================] - 2s 3ms/step - loss: 0.0608 - accuracy: 0.6074 - val_loss: 0.0602 - val_accuracy: 0.6158\n",
      "Epoch 77/200\n",
      "469/469 [==============================] - 2s 4ms/step - loss: 0.0603 - accuracy: 0.6130 - val_loss: 0.0597 - val_accuracy: 0.6208\n",
      "Epoch 78/200\n",
      "469/469 [==============================] - 2s 3ms/step - loss: 0.0599 - accuracy: 0.6191 - val_loss: 0.0593 - val_accuracy: 0.6262\n",
      "Epoch 79/200\n",
      "469/469 [==============================] - 2s 5ms/step - loss: 0.0595 - accuracy: 0.6238 - val_loss: 0.0589 - val_accuracy: 0.6314\n",
      "Epoch 80/200\n",
      "469/469 [==============================] - 2s 4ms/step - loss: 0.0591 - accuracy: 0.6288 - val_loss: 0.0584 - val_accuracy: 0.6366\n",
      "Epoch 81/200\n",
      "469/469 [==============================] - 2s 3ms/step - loss: 0.0586 - accuracy: 0.6341 - val_loss: 0.0580 - val_accuracy: 0.6410\n",
      "Epoch 82/200\n",
      "469/469 [==============================] - 1s 3ms/step - loss: 0.0582 - accuracy: 0.6391 - val_loss: 0.0576 - val_accuracy: 0.6463\n",
      "Epoch 83/200\n",
      "469/469 [==============================] - 2s 3ms/step - loss: 0.0578 - accuracy: 0.6440 - val_loss: 0.0572 - val_accuracy: 0.6522\n",
      "Epoch 84/200\n",
      "469/469 [==============================] - 2s 3ms/step - loss: 0.0574 - accuracy: 0.6483 - val_loss: 0.0568 - val_accuracy: 0.6567\n",
      "Epoch 85/200\n",
      "469/469 [==============================] - 2s 3ms/step - loss: 0.0570 - accuracy: 0.6525 - val_loss: 0.0563 - val_accuracy: 0.6608\n",
      "Epoch 86/200\n",
      "469/469 [==============================] - 2s 3ms/step - loss: 0.0566 - accuracy: 0.6572 - val_loss: 0.0559 - val_accuracy: 0.6647\n",
      "Epoch 87/200\n",
      "469/469 [==============================] - 2s 5ms/step - loss: 0.0562 - accuracy: 0.6610 - val_loss: 0.0555 - val_accuracy: 0.6702\n",
      "Epoch 88/200\n",
      "469/469 [==============================] - 2s 4ms/step - loss: 0.0558 - accuracy: 0.6653 - val_loss: 0.0551 - val_accuracy: 0.6736\n",
      "Epoch 89/200\n",
      "469/469 [==============================] - 1s 3ms/step - loss: 0.0554 - accuracy: 0.6693 - val_loss: 0.0547 - val_accuracy: 0.6773\n",
      "Epoch 90/200\n",
      "469/469 [==============================] - 2s 3ms/step - loss: 0.0550 - accuracy: 0.6732 - val_loss: 0.0543 - val_accuracy: 0.6810\n",
      "Epoch 91/200\n",
      "469/469 [==============================] - 1s 3ms/step - loss: 0.0546 - accuracy: 0.6763 - val_loss: 0.0539 - val_accuracy: 0.6851\n",
      "Epoch 92/200\n",
      "469/469 [==============================] - 2s 4ms/step - loss: 0.0542 - accuracy: 0.6801 - val_loss: 0.0536 - val_accuracy: 0.6879\n",
      "Epoch 93/200\n",
      "469/469 [==============================] - 2s 3ms/step - loss: 0.0539 - accuracy: 0.6832 - val_loss: 0.0532 - val_accuracy: 0.6919\n",
      "Epoch 94/200\n",
      "469/469 [==============================] - 2s 4ms/step - loss: 0.0535 - accuracy: 0.6868 - val_loss: 0.0528 - val_accuracy: 0.6946\n",
      "Epoch 95/200\n",
      "469/469 [==============================] - 2s 5ms/step - loss: 0.0531 - accuracy: 0.6901 - val_loss: 0.0524 - val_accuracy: 0.6975\n",
      "Epoch 96/200\n",
      "469/469 [==============================] - 1s 3ms/step - loss: 0.0527 - accuracy: 0.6930 - val_loss: 0.0520 - val_accuracy: 0.7007\n",
      "Epoch 97/200\n",
      "469/469 [==============================] - 2s 3ms/step - loss: 0.0524 - accuracy: 0.6960 - val_loss: 0.0517 - val_accuracy: 0.7038\n",
      "Epoch 98/200\n",
      "469/469 [==============================] - 1s 3ms/step - loss: 0.0520 - accuracy: 0.6989 - val_loss: 0.0513 - val_accuracy: 0.7067\n",
      "Epoch 99/200\n",
      "469/469 [==============================] - 1s 3ms/step - loss: 0.0517 - accuracy: 0.7013 - val_loss: 0.0509 - val_accuracy: 0.7104\n",
      "Epoch 100/200\n",
      "469/469 [==============================] - 2s 4ms/step - loss: 0.0513 - accuracy: 0.7041 - val_loss: 0.0506 - val_accuracy: 0.7122\n",
      "Epoch 101/200\n",
      "469/469 [==============================] - 1s 3ms/step - loss: 0.0509 - accuracy: 0.7066 - val_loss: 0.0502 - val_accuracy: 0.7145\n",
      "Epoch 102/200\n",
      "469/469 [==============================] - 2s 4ms/step - loss: 0.0506 - accuracy: 0.7096 - val_loss: 0.0499 - val_accuracy: 0.7175\n",
      "Epoch 103/200\n",
      "469/469 [==============================] - 2s 5ms/step - loss: 0.0503 - accuracy: 0.7118 - val_loss: 0.0495 - val_accuracy: 0.7199\n",
      "Epoch 104/200\n",
      "469/469 [==============================] - 1s 3ms/step - loss: 0.0499 - accuracy: 0.7148 - val_loss: 0.0492 - val_accuracy: 0.7234\n",
      "Epoch 105/200\n",
      "469/469 [==============================] - 1s 3ms/step - loss: 0.0496 - accuracy: 0.7166 - val_loss: 0.0488 - val_accuracy: 0.7259\n",
      "Epoch 106/200\n",
      "469/469 [==============================] - 2s 3ms/step - loss: 0.0492 - accuracy: 0.7192 - val_loss: 0.0485 - val_accuracy: 0.7284\n",
      "Epoch 107/200\n",
      "469/469 [==============================] - 2s 3ms/step - loss: 0.0489 - accuracy: 0.7211 - val_loss: 0.0482 - val_accuracy: 0.7298\n",
      "Epoch 108/200\n",
      "469/469 [==============================] - 1s 3ms/step - loss: 0.0486 - accuracy: 0.7232 - val_loss: 0.0478 - val_accuracy: 0.7314\n",
      "Epoch 109/200\n",
      "469/469 [==============================] - 2s 3ms/step - loss: 0.0483 - accuracy: 0.7249 - val_loss: 0.0475 - val_accuracy: 0.7337\n",
      "Epoch 110/200\n",
      "469/469 [==============================] - 2s 4ms/step - loss: 0.0479 - accuracy: 0.7270 - val_loss: 0.0472 - val_accuracy: 0.7353\n",
      "Epoch 111/200\n",
      "469/469 [==============================] - 2s 5ms/step - loss: 0.0476 - accuracy: 0.7291 - val_loss: 0.0469 - val_accuracy: 0.7384\n",
      "Epoch 112/200\n",
      "469/469 [==============================] - 1s 3ms/step - loss: 0.0473 - accuracy: 0.7311 - val_loss: 0.0466 - val_accuracy: 0.7406\n",
      "Epoch 113/200\n",
      "469/469 [==============================] - 1s 3ms/step - loss: 0.0470 - accuracy: 0.7331 - val_loss: 0.0462 - val_accuracy: 0.7426\n",
      "Epoch 114/200\n",
      "469/469 [==============================] - 2s 3ms/step - loss: 0.0467 - accuracy: 0.7348 - val_loss: 0.0459 - val_accuracy: 0.7443\n",
      "Epoch 115/200\n",
      "469/469 [==============================] - 1s 3ms/step - loss: 0.0464 - accuracy: 0.7366 - val_loss: 0.0456 - val_accuracy: 0.7467\n",
      "Epoch 116/200\n",
      "469/469 [==============================] - 2s 3ms/step - loss: 0.0461 - accuracy: 0.7380 - val_loss: 0.0453 - val_accuracy: 0.7488\n",
      "Epoch 117/200\n",
      "469/469 [==============================] - 1s 3ms/step - loss: 0.0458 - accuracy: 0.7398 - val_loss: 0.0450 - val_accuracy: 0.7503\n",
      "Epoch 118/200\n",
      "469/469 [==============================] - 2s 4ms/step - loss: 0.0455 - accuracy: 0.7413 - val_loss: 0.0447 - val_accuracy: 0.7521\n",
      "Epoch 119/200\n",
      "469/469 [==============================] - 2s 5ms/step - loss: 0.0452 - accuracy: 0.7431 - val_loss: 0.0444 - val_accuracy: 0.7533\n",
      "Epoch 120/200\n",
      "469/469 [==============================] - 1s 3ms/step - loss: 0.0449 - accuracy: 0.7450 - val_loss: 0.0442 - val_accuracy: 0.7539\n",
      "Epoch 121/200\n",
      "469/469 [==============================] - 1s 3ms/step - loss: 0.0447 - accuracy: 0.7467 - val_loss: 0.0439 - val_accuracy: 0.7566\n",
      "Epoch 122/200\n",
      "469/469 [==============================] - 1s 3ms/step - loss: 0.0444 - accuracy: 0.7481 - val_loss: 0.0436 - val_accuracy: 0.7581\n",
      "Epoch 123/200\n",
      "469/469 [==============================] - 1s 3ms/step - loss: 0.0441 - accuracy: 0.7495 - val_loss: 0.0433 - val_accuracy: 0.7590\n",
      "Epoch 124/200\n",
      "469/469 [==============================] - 1s 3ms/step - loss: 0.0438 - accuracy: 0.7509 - val_loss: 0.0430 - val_accuracy: 0.7606\n",
      "Epoch 125/200\n",
      "469/469 [==============================] - 1s 3ms/step - loss: 0.0436 - accuracy: 0.7526 - val_loss: 0.0428 - val_accuracy: 0.7620\n",
      "Epoch 126/200\n",
      "469/469 [==============================] - 2s 4ms/step - loss: 0.0433 - accuracy: 0.7542 - val_loss: 0.0425 - val_accuracy: 0.7637\n",
      "Epoch 127/200\n",
      "469/469 [==============================] - 2s 5ms/step - loss: 0.0430 - accuracy: 0.7558 - val_loss: 0.0422 - val_accuracy: 0.7652\n",
      "Epoch 128/200\n",
      "469/469 [==============================] - 1s 3ms/step - loss: 0.0428 - accuracy: 0.7573 - val_loss: 0.0419 - val_accuracy: 0.7667\n",
      "Epoch 129/200\n",
      "469/469 [==============================] - 2s 3ms/step - loss: 0.0425 - accuracy: 0.7589 - val_loss: 0.0417 - val_accuracy: 0.7679\n",
      "Epoch 130/200\n",
      "469/469 [==============================] - 1s 3ms/step - loss: 0.0422 - accuracy: 0.7604 - val_loss: 0.0414 - val_accuracy: 0.7692\n",
      "Epoch 131/200\n",
      "469/469 [==============================] - 2s 3ms/step - loss: 0.0420 - accuracy: 0.7621 - val_loss: 0.0412 - val_accuracy: 0.7714\n",
      "Epoch 132/200\n",
      "469/469 [==============================] - 2s 3ms/step - loss: 0.0417 - accuracy: 0.7639 - val_loss: 0.0409 - val_accuracy: 0.7730\n",
      "Epoch 133/200\n",
      "469/469 [==============================] - 2s 4ms/step - loss: 0.0415 - accuracy: 0.7654 - val_loss: 0.0407 - val_accuracy: 0.7747\n",
      "Epoch 134/200\n",
      "469/469 [==============================] - 2s 4ms/step - loss: 0.0412 - accuracy: 0.7670 - val_loss: 0.0404 - val_accuracy: 0.7771\n",
      "Epoch 135/200\n",
      "469/469 [==============================] - 2s 4ms/step - loss: 0.0410 - accuracy: 0.7686 - val_loss: 0.0402 - val_accuracy: 0.7791\n",
      "Epoch 136/200\n",
      "469/469 [==============================] - 2s 3ms/step - loss: 0.0408 - accuracy: 0.7703 - val_loss: 0.0399 - val_accuracy: 0.7812\n",
      "Epoch 137/200\n",
      "469/469 [==============================] - 2s 3ms/step - loss: 0.0405 - accuracy: 0.7720 - val_loss: 0.0397 - val_accuracy: 0.7830\n",
      "Epoch 138/200\n",
      "469/469 [==============================] - 1s 3ms/step - loss: 0.0403 - accuracy: 0.7741 - val_loss: 0.0394 - val_accuracy: 0.7852\n",
      "Epoch 139/200\n",
      "469/469 [==============================] - 1s 3ms/step - loss: 0.0400 - accuracy: 0.7761 - val_loss: 0.0392 - val_accuracy: 0.7865\n",
      "Epoch 140/200\n",
      "469/469 [==============================] - 1s 3ms/step - loss: 0.0398 - accuracy: 0.7780 - val_loss: 0.0390 - val_accuracy: 0.7882\n",
      "Epoch 141/200\n",
      "469/469 [==============================] - 1s 3ms/step - loss: 0.0396 - accuracy: 0.7803 - val_loss: 0.0387 - val_accuracy: 0.7897\n",
      "Epoch 142/200\n",
      "469/469 [==============================] - 2s 4ms/step - loss: 0.0394 - accuracy: 0.7822 - val_loss: 0.0385 - val_accuracy: 0.7918\n",
      "Epoch 143/200\n",
      "469/469 [==============================] - 2s 4ms/step - loss: 0.0391 - accuracy: 0.7839 - val_loss: 0.0383 - val_accuracy: 0.7936\n",
      "Epoch 144/200\n",
      "469/469 [==============================] - 2s 3ms/step - loss: 0.0389 - accuracy: 0.7858 - val_loss: 0.0381 - val_accuracy: 0.7959\n",
      "Epoch 145/200\n",
      "469/469 [==============================] - 2s 3ms/step - loss: 0.0387 - accuracy: 0.7878 - val_loss: 0.0378 - val_accuracy: 0.7980\n",
      "Epoch 146/200\n",
      "469/469 [==============================] - 2s 3ms/step - loss: 0.0385 - accuracy: 0.7894 - val_loss: 0.0376 - val_accuracy: 0.8006\n",
      "Epoch 147/200\n",
      "469/469 [==============================] - 2s 3ms/step - loss: 0.0383 - accuracy: 0.7911 - val_loss: 0.0374 - val_accuracy: 0.8025\n",
      "Epoch 148/200\n",
      "469/469 [==============================] - 1s 3ms/step - loss: 0.0380 - accuracy: 0.7931 - val_loss: 0.0372 - val_accuracy: 0.8044\n",
      "Epoch 149/200\n",
      "469/469 [==============================] - 1s 3ms/step - loss: 0.0378 - accuracy: 0.7945 - val_loss: 0.0370 - val_accuracy: 0.8066\n",
      "Epoch 150/200\n",
      "469/469 [==============================] - 2s 5ms/step - loss: 0.0376 - accuracy: 0.7967 - val_loss: 0.0368 - val_accuracy: 0.8081\n",
      "Epoch 151/200\n",
      "469/469 [==============================] - 2s 4ms/step - loss: 0.0374 - accuracy: 0.7985 - val_loss: 0.0365 - val_accuracy: 0.8102\n",
      "Epoch 152/200\n",
      "469/469 [==============================] - 2s 3ms/step - loss: 0.0372 - accuracy: 0.8001 - val_loss: 0.0363 - val_accuracy: 0.8113\n",
      "Epoch 153/200\n",
      "469/469 [==============================] - 1s 3ms/step - loss: 0.0370 - accuracy: 0.8023 - val_loss: 0.0361 - val_accuracy: 0.8124\n",
      "Epoch 154/200\n",
      "469/469 [==============================] - 1s 3ms/step - loss: 0.0368 - accuracy: 0.8044 - val_loss: 0.0359 - val_accuracy: 0.8142\n",
      "Epoch 155/200\n",
      "469/469 [==============================] - 1s 3ms/step - loss: 0.0366 - accuracy: 0.8058 - val_loss: 0.0357 - val_accuracy: 0.8160\n",
      "Epoch 156/200\n",
      "469/469 [==============================] - 1s 3ms/step - loss: 0.0364 - accuracy: 0.8072 - val_loss: 0.0355 - val_accuracy: 0.8177\n",
      "Epoch 157/200\n",
      "469/469 [==============================] - 2s 3ms/step - loss: 0.0362 - accuracy: 0.8084 - val_loss: 0.0353 - val_accuracy: 0.8194\n",
      "Epoch 158/200\n",
      "469/469 [==============================] - 2s 5ms/step - loss: 0.0360 - accuracy: 0.8101 - val_loss: 0.0351 - val_accuracy: 0.8213\n",
      "Epoch 159/200\n",
      "469/469 [==============================] - 2s 4ms/step - loss: 0.0358 - accuracy: 0.8118 - val_loss: 0.0349 - val_accuracy: 0.8227\n",
      "Epoch 160/200\n",
      "469/469 [==============================] - 1s 3ms/step - loss: 0.0356 - accuracy: 0.8135 - val_loss: 0.0348 - val_accuracy: 0.8239\n",
      "Epoch 161/200\n",
      "469/469 [==============================] - 2s 3ms/step - loss: 0.0355 - accuracy: 0.8152 - val_loss: 0.0346 - val_accuracy: 0.8252\n",
      "Epoch 162/200\n",
      "469/469 [==============================] - 1s 3ms/step - loss: 0.0353 - accuracy: 0.8167 - val_loss: 0.0344 - val_accuracy: 0.8270\n",
      "Epoch 163/200\n",
      "469/469 [==============================] - 2s 3ms/step - loss: 0.0351 - accuracy: 0.8180 - val_loss: 0.0342 - val_accuracy: 0.8284\n",
      "Epoch 164/200\n",
      "469/469 [==============================] - 2s 3ms/step - loss: 0.0349 - accuracy: 0.8191 - val_loss: 0.0340 - val_accuracy: 0.8291\n",
      "Epoch 165/200\n",
      "469/469 [==============================] - 2s 3ms/step - loss: 0.0347 - accuracy: 0.8208 - val_loss: 0.0338 - val_accuracy: 0.8301\n",
      "Epoch 166/200\n",
      "469/469 [==============================] - 2s 5ms/step - loss: 0.0346 - accuracy: 0.8222 - val_loss: 0.0336 - val_accuracy: 0.8311\n",
      "Epoch 167/200\n",
      "469/469 [==============================] - 2s 4ms/step - loss: 0.0344 - accuracy: 0.8235 - val_loss: 0.0335 - val_accuracy: 0.8325\n",
      "Epoch 168/200\n",
      "469/469 [==============================] - 2s 3ms/step - loss: 0.0342 - accuracy: 0.8245 - val_loss: 0.0333 - val_accuracy: 0.8332\n",
      "Epoch 169/200\n",
      "469/469 [==============================] - 2s 3ms/step - loss: 0.0340 - accuracy: 0.8255 - val_loss: 0.0331 - val_accuracy: 0.8342\n",
      "Epoch 170/200\n",
      "469/469 [==============================] - 1s 3ms/step - loss: 0.0339 - accuracy: 0.8269 - val_loss: 0.0330 - val_accuracy: 0.8350\n",
      "Epoch 171/200\n",
      "469/469 [==============================] - 2s 3ms/step - loss: 0.0337 - accuracy: 0.8277 - val_loss: 0.0328 - val_accuracy: 0.8367\n",
      "Epoch 172/200\n",
      "469/469 [==============================] - 2s 3ms/step - loss: 0.0335 - accuracy: 0.8288 - val_loss: 0.0326 - val_accuracy: 0.8375\n",
      "Epoch 173/200\n",
      "469/469 [==============================] - 2s 4ms/step - loss: 0.0334 - accuracy: 0.8299 - val_loss: 0.0324 - val_accuracy: 0.8382\n",
      "Epoch 174/200\n",
      "469/469 [==============================] - 2s 5ms/step - loss: 0.0332 - accuracy: 0.8307 - val_loss: 0.0323 - val_accuracy: 0.8395\n",
      "Epoch 175/200\n",
      "469/469 [==============================] - 1s 3ms/step - loss: 0.0330 - accuracy: 0.8314 - val_loss: 0.0321 - val_accuracy: 0.8406\n",
      "Epoch 176/200\n",
      "469/469 [==============================] - 2s 3ms/step - loss: 0.0329 - accuracy: 0.8327 - val_loss: 0.0320 - val_accuracy: 0.8418\n",
      "Epoch 177/200\n",
      "469/469 [==============================] - 2s 3ms/step - loss: 0.0327 - accuracy: 0.8338 - val_loss: 0.0318 - val_accuracy: 0.8426\n",
      "Epoch 178/200\n",
      "469/469 [==============================] - 2s 3ms/step - loss: 0.0326 - accuracy: 0.8345 - val_loss: 0.0316 - val_accuracy: 0.8434\n",
      "Epoch 179/200\n",
      "469/469 [==============================] - 2s 3ms/step - loss: 0.0324 - accuracy: 0.8356 - val_loss: 0.0315 - val_accuracy: 0.8441\n",
      "Epoch 180/200\n",
      "469/469 [==============================] - 1s 3ms/step - loss: 0.0323 - accuracy: 0.8368 - val_loss: 0.0313 - val_accuracy: 0.8453\n",
      "Epoch 181/200\n",
      "469/469 [==============================] - 2s 4ms/step - loss: 0.0321 - accuracy: 0.8375 - val_loss: 0.0312 - val_accuracy: 0.8466\n",
      "Epoch 182/200\n",
      "469/469 [==============================] - 2s 4ms/step - loss: 0.0320 - accuracy: 0.8383 - val_loss: 0.0310 - val_accuracy: 0.8478\n",
      "Epoch 183/200\n",
      "469/469 [==============================] - 2s 3ms/step - loss: 0.0318 - accuracy: 0.8390 - val_loss: 0.0309 - val_accuracy: 0.8485\n",
      "Epoch 184/200\n",
      "469/469 [==============================] - 2s 3ms/step - loss: 0.0317 - accuracy: 0.8397 - val_loss: 0.0307 - val_accuracy: 0.8492\n",
      "Epoch 185/200\n",
      "469/469 [==============================] - 1s 3ms/step - loss: 0.0315 - accuracy: 0.8402 - val_loss: 0.0306 - val_accuracy: 0.8495\n",
      "Epoch 186/200\n",
      "469/469 [==============================] - 2s 4ms/step - loss: 0.0314 - accuracy: 0.8410 - val_loss: 0.0304 - val_accuracy: 0.8502\n",
      "Epoch 187/200\n",
      "469/469 [==============================] - 2s 3ms/step - loss: 0.0312 - accuracy: 0.8419 - val_loss: 0.0303 - val_accuracy: 0.8513\n",
      "Epoch 188/200\n",
      "469/469 [==============================] - 2s 3ms/step - loss: 0.0311 - accuracy: 0.8427 - val_loss: 0.0302 - val_accuracy: 0.8515\n",
      "Epoch 189/200\n",
      "469/469 [==============================] - 2s 4ms/step - loss: 0.0310 - accuracy: 0.8432 - val_loss: 0.0300 - val_accuracy: 0.8516\n",
      "Epoch 190/200\n",
      "469/469 [==============================] - 2s 5ms/step - loss: 0.0308 - accuracy: 0.8440 - val_loss: 0.0299 - val_accuracy: 0.8521\n",
      "Epoch 191/200\n",
      "469/469 [==============================] - 2s 3ms/step - loss: 0.0307 - accuracy: 0.8447 - val_loss: 0.0297 - val_accuracy: 0.8524\n",
      "Epoch 192/200\n",
      "469/469 [==============================] - 2s 3ms/step - loss: 0.0305 - accuracy: 0.8456 - val_loss: 0.0296 - val_accuracy: 0.8535\n",
      "Epoch 193/200\n",
      "469/469 [==============================] - 2s 3ms/step - loss: 0.0304 - accuracy: 0.8462 - val_loss: 0.0295 - val_accuracy: 0.8544\n",
      "Epoch 194/200\n",
      "469/469 [==============================] - 2s 3ms/step - loss: 0.0303 - accuracy: 0.8468 - val_loss: 0.0293 - val_accuracy: 0.8553\n",
      "Epoch 195/200\n",
      "469/469 [==============================] - 1s 3ms/step - loss: 0.0302 - accuracy: 0.8475 - val_loss: 0.0292 - val_accuracy: 0.8567\n",
      "Epoch 196/200\n",
      "469/469 [==============================] - 2s 3ms/step - loss: 0.0300 - accuracy: 0.8480 - val_loss: 0.0291 - val_accuracy: 0.8569\n",
      "Epoch 197/200\n",
      "469/469 [==============================] - 2s 4ms/step - loss: 0.0299 - accuracy: 0.8487 - val_loss: 0.0289 - val_accuracy: 0.8578\n",
      "Epoch 198/200\n",
      "469/469 [==============================] - 2s 4ms/step - loss: 0.0298 - accuracy: 0.8491 - val_loss: 0.0288 - val_accuracy: 0.8583\n",
      "Epoch 199/200\n",
      "469/469 [==============================] - 2s 3ms/step - loss: 0.0297 - accuracy: 0.8497 - val_loss: 0.0287 - val_accuracy: 0.8586\n",
      "Epoch 200/200\n",
      "469/469 [==============================] - 2s 3ms/step - loss: 0.0295 - accuracy: 0.8505 - val_loss: 0.0286 - val_accuracy: 0.8586\n"
     ]
    },
    {
     "data": {
      "text/plain": [
       "<keras.callbacks.History at 0x7f6aa77e1040>"
      ]
     },
     "execution_count": 24,
     "metadata": {},
     "output_type": "execute_result"
    }
   ],
   "source": [
    "model.fit(X_train, y_train, batch_size=128, epochs=200, verbose=1, validation_data=(X_valid, y_valid))"
   ]
  },
  {
   "cell_type": "markdown",
   "metadata": {
    "id": "eFFJFRyv6_a_"
   },
   "source": [
    "#### Evaluating model performance"
   ]
  },
  {
   "cell_type": "code",
   "execution_count": 25,
   "metadata": {
    "colab": {
     "base_uri": "https://localhost:8080/"
    },
    "id": "Mi8oSUj06_a_",
    "outputId": "4d2dd5bf-8fbf-43b9-9445-884d2b0b22bf"
   },
   "outputs": [
    {
     "name": "stdout",
     "output_type": "stream",
     "text": [
      "313/313 [==============================] - 1s 2ms/step - loss: 0.0286 - accuracy: 0.8586\n"
     ]
    },
    {
     "data": {
      "text/plain": [
       "[0.028574416413903236, 0.8586000204086304]"
      ]
     },
     "execution_count": 25,
     "metadata": {},
     "output_type": "execute_result"
    }
   ],
   "source": [
    "model.evaluate(X_valid, y_valid)"
   ]
  },
  {
   "cell_type": "markdown",
   "metadata": {
    "id": "m5kN0zO56_a_"
   },
   "source": [
    "#### Performing inference"
   ]
  },
  {
   "cell_type": "code",
   "execution_count": 26,
   "metadata": {
    "id": "-i_2NQrm6_a_"
   },
   "outputs": [],
   "source": [
    "valid_0 = X_valid[0].reshape(1, 784)"
   ]
  },
  {
   "cell_type": "code",
   "execution_count": 27,
   "metadata": {
    "colab": {
     "base_uri": "https://localhost:8080/"
    },
    "id": "1uDQLTJv6_a_",
    "outputId": "f924b84e-1c66-4420-e441-cd7e952fef42"
   },
   "outputs": [
    {
     "name": "stdout",
     "output_type": "stream",
     "text": [
      "1/1 [==============================] - 0s 90ms/step\n"
     ]
    },
    {
     "data": {
      "text/plain": [
       "array([[4.0981658e-03, 1.0899013e-03, 3.9723762e-03, 7.7837198e-03,\n",
       "        6.3838577e-03, 8.0801407e-03, 8.3499949e-04, 9.2163819e-01,\n",
       "        4.1949092e-03, 4.1923724e-02]], dtype=float32)"
      ]
     },
     "execution_count": 27,
     "metadata": {},
     "output_type": "execute_result"
    }
   ],
   "source": [
    "model.predict(valid_0)"
   ]
  },
  {
   "cell_type": "code",
   "execution_count": 29,
   "metadata": {
    "id": "b2cxqZcL8k7C"
   },
   "outputs": [],
   "source": [
    "# model.predict_classes(valid_0)"
   ]
  },
  {
   "cell_type": "code",
   "execution_count": 30,
   "metadata": {
    "colab": {
     "base_uri": "https://localhost:8080/"
    },
    "id": "9UV84XMx6_a_",
    "outputId": "c5b7e7b4-81a8-465e-f8a9-e62e3fe02f60"
   },
   "outputs": [
    {
     "name": "stdout",
     "output_type": "stream",
     "text": [
      "1/1 [==============================] - 0s 21ms/step\n"
     ]
    },
    {
     "data": {
      "text/plain": [
       "array([7])"
      ]
     },
     "execution_count": 30,
     "metadata": {},
     "output_type": "execute_result"
    }
   ],
   "source": [
    "# The predict_classes() method no longer exists in recent TensorFlow releases. \n",
    "# Instead you could use:\n",
    "import numpy as np\n",
    "np.argmax(model.predict(valid_0), axis=-1)"
   ]
  }
 ],
 "metadata": {
  "colab": {
   "include_colab_link": true,
   "name": "shallow_net_in_tensorflow.ipynb",
   "provenance": []
  },
  "kernelspec": {
   "display_name": "Python 3 (ipykernel)",
   "language": "python",
   "name": "python3"
  },
  "language_info": {
   "codemirror_mode": {
    "name": "ipython",
    "version": 3
   },
   "file_extension": ".py",
   "mimetype": "text/x-python",
   "name": "python",
   "nbconvert_exporter": "python",
   "pygments_lexer": "ipython3",
   "version": "3.9.22"
  }
 },
 "nbformat": 4,
 "nbformat_minor": 1
}
