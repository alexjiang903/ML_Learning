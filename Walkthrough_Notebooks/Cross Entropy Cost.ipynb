{
 "cells": [
  {
   "cell_type": "code",
   "execution_count": 1,
   "id": "470cb731",
   "metadata": {},
   "outputs": [],
   "source": [
    "from numpy import log"
   ]
  },
  {
   "cell_type": "code",
   "execution_count": 4,
   "id": "87cdeb23",
   "metadata": {},
   "outputs": [],
   "source": [
    "def cross_entropy(y, a):\n",
    "    return -1*(y*log(a) + (1-y)*log(1-a))\n",
    "\n",
    "# y-hat is the same as a, a is just a special case of y-hat at the final output layer"
   ]
  },
  {
   "cell_type": "code",
   "execution_count": 5,
   "id": "42d65e7d",
   "metadata": {},
   "outputs": [
    {
     "data": {
      "text/plain": [
       "0.00030004500900199243"
      ]
     },
     "execution_count": 5,
     "metadata": {},
     "output_type": "execute_result"
    }
   ],
   "source": [
    "cross_entropy(1, 0.9997)"
   ]
  },
  {
   "cell_type": "code",
   "execution_count": 7,
   "id": "855f4239",
   "metadata": {},
   "outputs": [
    {
     "data": {
      "text/plain": [
       "0.10536051565782628"
      ]
     },
     "execution_count": 7,
     "metadata": {},
     "output_type": "execute_result"
    }
   ],
   "source": [
    "cross_entropy(1, 0.9)"
   ]
  },
  {
   "cell_type": "code",
   "execution_count": 8,
   "id": "e7cb5845",
   "metadata": {},
   "outputs": [
    {
     "data": {
      "text/plain": [
       "0.16251892949777494"
      ]
     },
     "execution_count": 8,
     "metadata": {},
     "output_type": "execute_result"
    }
   ],
   "source": [
    " cross_entropy(1, 0.85)"
   ]
  },
  {
   "cell_type": "code",
   "execution_count": 9,
   "id": "ba42c46d",
   "metadata": {},
   "outputs": [
    {
     "data": {
      "text/plain": [
       "1.897119984885881"
      ]
     },
     "execution_count": 9,
     "metadata": {},
     "output_type": "execute_result"
    }
   ],
   "source": [
    "cross_entropy(1, 1-0.85)"
   ]
  },
  {
   "cell_type": "code",
   "execution_count": null,
   "id": "3c01fd46",
   "metadata": {},
   "outputs": [],
   "source": []
  }
 ],
 "metadata": {
  "kernelspec": {
   "display_name": "Python 3 (ipykernel)",
   "language": "python",
   "name": "python3"
  },
  "language_info": {
   "codemirror_mode": {
    "name": "ipython",
    "version": 3
   },
   "file_extension": ".py",
   "mimetype": "text/x-python",
   "name": "python",
   "nbconvert_exporter": "python",
   "pygments_lexer": "ipython3",
   "version": "3.9.22"
  }
 },
 "nbformat": 4,
 "nbformat_minor": 5
}
