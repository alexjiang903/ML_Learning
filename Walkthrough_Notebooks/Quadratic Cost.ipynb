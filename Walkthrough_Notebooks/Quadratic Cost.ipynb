{
 "cells": [
  {
   "cell_type": "markdown",
   "id": "c31908ff",
   "metadata": {},
   "source": [
    "# Quadratic cost (Mean Squared Error)"
   ]
  },
  {
   "cell_type": "code",
   "execution_count": 1,
   "id": "866f9e1a",
   "metadata": {},
   "outputs": [],
   "source": [
    "def squared_err(y, yhat):\n",
    "    return (y - yhat) ** 2"
   ]
  },
  {
   "cell_type": "code",
   "execution_count": 2,
   "id": "4bd335ac",
   "metadata": {},
   "outputs": [
    {
     "data": {
      "text/plain": [
       "0"
      ]
     },
     "execution_count": 2,
     "metadata": {},
     "output_type": "execute_result"
    }
   ],
   "source": [
    "squared_err(1, 1) #perfect prediction, no cost"
   ]
  },
  {
   "cell_type": "code",
   "execution_count": 4,
   "id": "84b16a16",
   "metadata": {},
   "outputs": [
    {
     "data": {
      "text/plain": [
       "8.999999999998017e-08"
      ]
     },
     "execution_count": 4,
     "metadata": {},
     "output_type": "execute_result"
    }
   ],
   "source": [
    "squared_err(1, 0.9997) #almost perfect prediction with high confidence, very little cost"
   ]
  },
  {
   "cell_type": "code",
   "execution_count": 5,
   "id": "47c9bf76",
   "metadata": {},
   "outputs": [
    {
     "data": {
      "text/plain": [
       "0.009999999999999995"
      ]
     },
     "execution_count": 5,
     "metadata": {},
     "output_type": "execute_result"
    }
   ],
   "source": [
    "squared_err(1, 0.9)"
   ]
  },
  {
   "cell_type": "code",
   "execution_count": 6,
   "id": "ee63d987",
   "metadata": {},
   "outputs": [
    {
     "data": {
      "text/plain": [
       "0.16000000000000003"
      ]
     },
     "execution_count": 6,
     "metadata": {},
     "output_type": "execute_result"
    }
   ],
   "source": [
    "squared_err(1, 0.6)"
   ]
  },
  {
   "cell_type": "code",
   "execution_count": 7,
   "id": "76374c80",
   "metadata": {},
   "outputs": [
    {
     "data": {
      "text/plain": [
       "0.48999999999999994"
      ]
     },
     "execution_count": 7,
     "metadata": {},
     "output_type": "execute_result"
    }
   ],
   "source": [
    "squared_err(1, 0.3)"
   ]
  },
  {
   "cell_type": "code",
   "execution_count": 9,
   "id": "202c49c6",
   "metadata": {},
   "outputs": [
    {
     "data": {
      "text/plain": [
       "0.09"
      ]
     },
     "execution_count": 9,
     "metadata": {},
     "output_type": "execute_result"
    }
   ],
   "source": [
    "squared_err(0, 0.3)"
   ]
  },
  {
   "cell_type": "code",
   "execution_count": null,
   "id": "c3ba3127",
   "metadata": {},
   "outputs": [],
   "source": []
  }
 ],
 "metadata": {
  "kernelspec": {
   "display_name": "Python 3 (ipykernel)",
   "language": "python",
   "name": "python3"
  },
  "language_info": {
   "codemirror_mode": {
    "name": "ipython",
    "version": 3
   },
   "file_extension": ".py",
   "mimetype": "text/x-python",
   "name": "python",
   "nbconvert_exporter": "python",
   "pygments_lexer": "ipython3",
   "version": "3.9.22"
  }
 },
 "nbformat": 4,
 "nbformat_minor": 5
}
