{
 "cells": [
  {
   "cell_type": "markdown",
   "id": "5adff484",
   "metadata": {},
   "source": [
    "#### Sigmoid Activation function"
   ]
  },
  {
   "cell_type": "code",
   "execution_count": 2,
   "id": "34f81ec0",
   "metadata": {},
   "outputs": [],
   "source": [
    "from math import e"
   ]
  },
  {
   "cell_type": "code",
   "execution_count": 3,
   "id": "489c45a4",
   "metadata": {},
   "outputs": [],
   "source": [
    "def sigmoid(Z):\n",
    "    return 1/(1+(e**-Z))"
   ]
  },
  {
   "cell_type": "code",
   "execution_count": 5,
   "id": "d5e38543",
   "metadata": {},
   "outputs": [
    {
     "name": "stdout",
     "output_type": "stream",
     "text": [
      "0.5000024999999999\n"
     ]
    }
   ],
   "source": [
    "sigmoid(0.00001) #values very close to Z = 0 will produce an output of ~0.5"
   ]
  },
  {
   "cell_type": "code",
   "execution_count": 9,
   "id": "824dc398",
   "metadata": {},
   "outputs": [
    {
     "data": {
      "text/plain": [
       "1.0"
      ]
     },
     "execution_count": 9,
     "metadata": {},
     "output_type": "execute_result"
    }
   ],
   "source": [
    "sigmoid(100000) #values of Z that are very large will produce output ~1"
   ]
  },
  {
   "cell_type": "code",
   "execution_count": 7,
   "id": "e2858308",
   "metadata": {},
   "outputs": [
    {
     "data": {
      "text/plain": [
       "0.2689414213699951"
      ]
     },
     "execution_count": 7,
     "metadata": {},
     "output_type": "execute_result"
    }
   ],
   "source": [
    "sigmoid(-1) #values of Z that are negative will produce small values"
   ]
  },
  {
   "cell_type": "code",
   "execution_count": 8,
   "id": "95ba09d1",
   "metadata": {},
   "outputs": [
    {
     "data": {
      "text/plain": [
       "4.539786870243442e-05"
      ]
     },
     "execution_count": 8,
     "metadata": {},
     "output_type": "execute_result"
    }
   ],
   "source": [
    "sigmoid(-10) #very small probability, ~0.0045%"
   ]
  },
  {
   "cell_type": "code",
   "execution_count": null,
   "id": "52509d2d",
   "metadata": {},
   "outputs": [],
   "source": []
  }
 ],
 "metadata": {
  "kernelspec": {
   "display_name": "Python 3 (ipykernel)",
   "language": "python",
   "name": "python3"
  },
  "language_info": {
   "codemirror_mode": {
    "name": "ipython",
    "version": 3
   },
   "file_extension": ".py",
   "mimetype": "text/x-python",
   "name": "python",
   "nbconvert_exporter": "python",
   "pygments_lexer": "ipython3",
   "version": "3.9.22"
  }
 },
 "nbformat": 4,
 "nbformat_minor": 5
}
